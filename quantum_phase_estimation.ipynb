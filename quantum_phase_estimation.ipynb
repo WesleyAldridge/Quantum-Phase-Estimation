{
  "nbformat": 4,
  "nbformat_minor": 0,
  "metadata": {
    "colab": {
      "name": "HW3_QuantumComputing_Answer2.ipynb",
      "provenance": [],
      "collapsed_sections": [
        "d2WiRTLqQz-M",
        "RCUzxI0ov7vd"
      ],
      "include_colab_link": true
    },
    "kernelspec": {
      "name": "python3",
      "display_name": "Python 3"
    }
  },
  "cells": [
    {
      "cell_type": "markdown",
      "metadata": {
        "id": "view-in-github",
        "colab_type": "text"
      },
      "source": [
        "<a href=\"https://colab.research.google.com/github/WesleyAldridge/Quantum-Phase-Estimation/blob/master/quantum_phase_estimation.ipynb\" target=\"_parent\"><img src=\"https://colab.research.google.com/assets/colab-badge.svg\" alt=\"Open In Colab\"/></a>"
      ]
    },
    {
      "cell_type": "markdown",
      "metadata": {
        "id": "7yY774aUhfGg",
        "colab_type": "text"
      },
      "source": [
        "# Quantum Phase Estimation\n",
        "##### ( Answer 2 of homework 3, COT5600 spring 2019 )\n",
        "#### Wesley Aldridge"
      ]
    },
    {
      "cell_type": "markdown",
      "metadata": {
        "id": "5X56NsVyeNbz",
        "colab_type": "text"
      },
      "source": [
        "\"Let $\\varphi\\in[0,1)$ be arbitrary and\n",
        "\n",
        "\n",
        "![alt text](https://i.gyazo.com/c561cce86d27deb2fc902e0e9483c63d.png)\n",
        "\n",
        "\n",
        "Create a Python notebook that lets you compute and plot the probabilities for measuring $x\\in\\{0,1\\}^n$ when the state is\n",
        "\n",
        "![alt text](https://i.gyazo.com/f507bcd01e5390c75456e91931bad892.png)\n",
        "\n",
        "\n",
        "for different $N$ and $\\varphi$.  The plot should look similar to the plots on the slides depicting the different probability distributions.  Do not forget about the bit-reversal that we talked about in class.\"\n",
        "\n",
        "-- Instructions"
      ]
    },
    {
      "cell_type": "markdown",
      "metadata": {
        "id": "d2WiRTLqQz-M",
        "colab_type": "text"
      },
      "source": [
        "### Imports"
      ]
    },
    {
      "cell_type": "code",
      "metadata": {
        "id": "KkUfPgA9aoQP",
        "colab_type": "code",
        "colab": {}
      },
      "source": [
        "import numpy as np\n",
        "from numpy import arange\n",
        "import cmath, math\n",
        "from cmath import pi, sqrt, exp\n",
        "import matplotlib.pyplot as plt"
      ],
      "execution_count": 0,
      "outputs": []
    },
    {
      "cell_type": "markdown",
      "metadata": {
        "id": "RCUzxI0ov7vd",
        "colab_type": "text"
      },
      "source": [
        "### Global constants"
      ]
    },
    {
      "cell_type": "code",
      "metadata": {
        "id": "czLBmHxmv7EF",
        "colab_type": "code",
        "colab": {}
      },
      "source": [
        "ket_0 = np.mat(\"1; 0\")\n",
        "ket_1 = np.mat(\"0; 1\")\n",
        "\n",
        "coeff = 1/sqrt(2)\n",
        "i = 1j"
      ],
      "execution_count": 0,
      "outputs": []
    },
    {
      "cell_type": "markdown",
      "metadata": {
        "id": "y3eWxTAZPv54",
        "colab_type": "text"
      },
      "source": [
        "### Calculating first vector $|\\varphi>$"
      ]
    },
    {
      "cell_type": "code",
      "metadata": {
        "id": "30oPeFmUY6fW",
        "colab_type": "code",
        "colab": {}
      },
      "source": [
        "def get_ket_varphi(varphi, n):\n",
        "    arr = arange(n)\n",
        "    arr = arr[::-1]\n",
        "    \n",
        "    product = np.zeros((2,1))\n",
        "    \n",
        "    for k in arr:\n",
        "        if k == n-1:\n",
        "            product = coeff * ( ket_0 + exp(2*pi*i*(2**k)*varphi) * ket_1 )\n",
        "        else:\n",
        "            product = np.kron(product, (coeff * ( ket_0 + exp(2*pi*1j*(2**k)*varphi) * ket_1 ))) # axes = 0 is tensor product.\n",
        "        #print(\"current product is:\")\n",
        "        #print(product)\n",
        "        #print(product.shape)\n",
        "        #print()\n",
        "        if k == 0:\n",
        "            return product\n",
        "\n",
        "#print(get_ket_varphi(varphi, 2))"
      ],
      "execution_count": 0,
      "outputs": []
    },
    {
      "cell_type": "markdown",
      "metadata": {
        "id": "fOnKIa_YvekB",
        "colab_type": "text"
      },
      "source": [
        "### Calculating Fourier Matrix $F_N$"
      ]
    },
    {
      "cell_type": "markdown",
      "metadata": {
        "id": "1Hv4BZJBoiP2",
        "colab_type": "text"
      },
      "source": [
        "![alt text](https://i.gyazo.com/83d8180df0c232570d9572846c518f34.png)"
      ]
    },
    {
      "cell_type": "code",
      "metadata": {
        "id": "XwbczzD4vbd7",
        "colab_type": "code",
        "colab": {}
      },
      "source": [
        "def Fourier_matrix(N):\n",
        "    # square matrix which represents the powers of omega:\n",
        "    k, l = np.meshgrid(np.arange(N), np.arange(N))\n",
        "    \n",
        "    omega = np.exp( - 2 * pi * 1j / N )\n",
        "    F = np.power( omega, k * l ) / sqrt(N)\n",
        "    return F\n",
        "\n",
        "#print(\"F_2:\")\n",
        "#print(Fourier_matrix(2))\n",
        "#print()\n",
        "#print()\n",
        "#print(\"F_4:\")\n",
        "#print(Fourier_matrix(4))\n",
        "#print()\n",
        "#print()\n",
        "#print(\"F_N:\")\n",
        "#print(Fourier_matrix(N))\n",
        "\n",
        "#k, l = np.meshgrid(np.arange(8), np.arange(8))\n",
        "#k*l"
      ],
      "execution_count": 0,
      "outputs": []
    },
    {
      "cell_type": "code",
      "metadata": {
        "id": "kbylMeqZPGDi",
        "colab_type": "code",
        "colab": {}
      },
      "source": [
        "def make_bra(value, N):\n",
        "        bra_x = np.zeros((N))\n",
        "        bra_x[value] = 1\n",
        "        \n",
        "        return bra_x"
      ],
      "execution_count": 0,
      "outputs": []
    },
    {
      "cell_type": "markdown",
      "metadata": {
        "id": "is-DqUVxP6A2",
        "colab_type": "text"
      },
      "source": [
        "### Set $N = 2^5$, $\\varphi = 32/256$"
      ]
    },
    {
      "cell_type": "code",
      "metadata": {
        "id": "lp0nLJHJP4MG",
        "colab_type": "code",
        "outputId": "67f9e1f4-5bd4-44c1-a11d-a9b54e2b1304",
        "colab": {
          "base_uri": "https://localhost:8080/",
          "height": 328
        }
      },
      "source": [
        "n = 5\n",
        "N = (2**n)\n",
        "\n",
        "x = 32\n",
        "y = 256\n",
        "varphi = x/y   # phase [0, 1)\n",
        "\n",
        "# Plotting:\n",
        "\n",
        "# Probabilities:\n",
        "# = | <x| F^\\dagger |\\varphi> |^2\n",
        "# = absolute_value( bra_x  * (F^dagger * varphi_ket) )^2\n",
        "# from page 128 of notes\n",
        "yvalues = [abs(make_bra(value,N) * (np.conjugate(np.transpose(Fourier_matrix(N))) * get_ket_varphi(varphi, n))).item(0) **2 for value in arange(32)][::-1]\n",
        "xvalues = arange(32)\n",
        "plt.plot(xvalues, np.round(yvalues, decimals=2), 'co')\n",
        "plt.vlines(x=xvalues, ymin=0, ymax=np.round(yvalues, decimals=2))\n",
        "label = \"N = 2**\" + str(n) + \"   varphi =\" + str(x) + \"/\" + str(y)\n",
        "plt.title(label)\n",
        "plt.ylabel(\"Pr(x)\")\n",
        "plt.xlabel(\"x\")\n",
        "plt.axis([0, 31, -0.0, 1.1]) # xmin,xmax,ymin,ymax\n",
        "plt.show()\n",
        "\n",
        "\n",
        "np.round(yvalues, decimals=2)"
      ],
      "execution_count": 0,
      "outputs": [
        {
          "output_type": "display_data",
          "data": {
            "image/png": "[encoded data removed]",
            "text/plain": [
              "<Figure size 432x288 with 1 Axes>"
            ]
          },
          "metadata": {
            "tags": []
          }
        },
        {
          "output_type": "execute_result",
          "data": {
            "text/plain": [
              "array([0., 0., 0., 1., 0., 0., 0., 0., 0., 0., 0., 0., 0., 0., 0., 0., 0.,\n",
              "       0., 0., 0., 0., 0., 0., 0., 0., 0., 0., 0., 0., 0., 0., 0.])"
            ]
          },
          "metadata": {
            "tags": []
          },
          "execution_count": 6
        }
      ]
    },
    {
      "cell_type": "markdown",
      "metadata": {
        "id": "SxN4S-zj-_uW",
        "colab_type": "text"
      },
      "source": [
        "### Set $N = 2^5$, $\\varphi = 33/256$"
      ]
    },
    {
      "cell_type": "code",
      "metadata": {
        "id": "P7hwXxcs_Aca",
        "colab_type": "code",
        "outputId": "bdc5a2fe-cc4f-490f-9ecf-83d4820cfb95",
        "colab": {
          "base_uri": "https://localhost:8080/",
          "height": 345
        }
      },
      "source": [
        "n = 5\n",
        "N = (2**n)\n",
        "\n",
        "x = 33\n",
        "y = 256\n",
        "varphi = x/y   # phase [0, 1)\n",
        "\n",
        "# Plotting:\n",
        "yvalues = [abs(make_bra(value,N) * (np.conjugate(np.transpose(Fourier_matrix(N))) * get_ket_varphi(varphi, n))).item(0) **2 for value in arange(32)][::-1]\n",
        "xvalues = arange(32)\n",
        "plt.plot(xvalues, np.round(yvalues, decimals=2), 'mo')\n",
        "plt.vlines(x=xvalues, ymin=0, ymax=np.round(yvalues, decimals=2))\n",
        "label = \"N = 2**\" + str(n) + \"   varphi =\" + str(x) + \"/\" + str(y)\n",
        "plt.title(label)\n",
        "plt.ylabel(\"Pr(x)\")\n",
        "plt.xlabel(\"x\")\n",
        "plt.axis([0, 31, -0.0, 1.1]) # xmin,xmax,ymin,ymax\n",
        "plt.show()\n",
        "\n",
        "\n",
        "np.round(yvalues, decimals=2)"
      ],
      "execution_count": 0,
      "outputs": [
        {
          "output_type": "display_data",
          "data": {
            "image/png": "[encoded data removed]",
            "text/plain": [
              "<Figure size 432x288 with 1 Axes>"
            ]
          },
          "metadata": {
            "tags": []
          }
        },
        {
          "output_type": "execute_result",
          "data": {
            "text/plain": [
              "array([0.  , 0.  , 0.01, 0.95, 0.02, 0.  , 0.  , 0.  , 0.  , 0.  , 0.  ,\n",
              "       0.  , 0.  , 0.  , 0.  , 0.  , 0.  , 0.  , 0.  , 0.  , 0.  , 0.  ,\n",
              "       0.  , 0.  , 0.  , 0.  , 0.  , 0.  , 0.  , 0.  , 0.  , 0.  ])"
            ]
          },
          "metadata": {
            "tags": []
          },
          "execution_count": 7
        }
      ]
    },
    {
      "cell_type": "markdown",
      "metadata": {
        "id": "2G4WyPx-QZwB",
        "colab_type": "text"
      },
      "source": [
        "### Set $N = 2^5$, $\\varphi = 34/256$"
      ]
    },
    {
      "cell_type": "code",
      "metadata": {
        "id": "XHi9vuYxQeRQ",
        "colab_type": "code",
        "outputId": "cc339e3c-b76b-4d33-ac95-a8b111a39832",
        "colab": {
          "base_uri": "https://localhost:8080/",
          "height": 345
        }
      },
      "source": [
        "n = 5\n",
        "N = (2**n)\n",
        "\n",
        "x = 34\n",
        "y = 256\n",
        "varphi = x/y   # phase [0, 1)\n",
        "\n",
        "# Plotting:\n",
        "yvalues = [abs(make_bra(value,N) * (np.conjugate(np.transpose(Fourier_matrix(N))) * get_ket_varphi(varphi, n))).item(0) **2 for value in arange(32)][::-1]\n",
        "xvalues = arange(32)\n",
        "plt.plot(xvalues, np.round(yvalues, decimals=2), 'o')\n",
        "plt.vlines(x=xvalues, ymin=0, ymax=np.round(yvalues, decimals=2))\n",
        "label = \"N = 2**\" + str(n) + \"   varphi =\" + str(x) + \"/\" + str(y)\n",
        "plt.title(label)\n",
        "plt.ylabel(\"Pr(x)\")\n",
        "plt.xlabel(\"x\")\n",
        "plt.axis([0, 31, -0.0, 1.1]) # xmin,xmax,ymin,ymax\n",
        "plt.show()\n",
        "\n",
        "\n",
        "np.round(yvalues, decimals=2)"
      ],
      "execution_count": 0,
      "outputs": [
        {
          "output_type": "display_data",
          "data": {
            "image/png": "[encoded data removed]",
            "text/plain": [
              "<Figure size 432x288 with 1 Axes>"
            ]
          },
          "metadata": {
            "tags": []
          }
        },
        {
          "output_type": "execute_result",
          "data": {
            "text/plain": [
              "array([0.  , 0.01, 0.03, 0.81, 0.09, 0.02, 0.01, 0.  , 0.  , 0.  , 0.  ,\n",
              "       0.  , 0.  , 0.  , 0.  , 0.  , 0.  , 0.  , 0.  , 0.  , 0.  , 0.  ,\n",
              "       0.  , 0.  , 0.  , 0.  , 0.  , 0.  , 0.  , 0.  , 0.  , 0.  ])"
            ]
          },
          "metadata": {
            "tags": []
          },
          "execution_count": 8
        }
      ]
    },
    {
      "cell_type": "markdown",
      "metadata": {
        "id": "FPoO6J8vR3uR",
        "colab_type": "text"
      },
      "source": [
        "### Set $N = 2^5$, $\\varphi = 35/256$"
      ]
    },
    {
      "cell_type": "code",
      "metadata": {
        "id": "tbdvidXbR65y",
        "colab_type": "code",
        "outputId": "c0c83f4c-a321-49e8-e3ef-a7e987e5931e",
        "colab": {
          "base_uri": "https://localhost:8080/",
          "height": 345
        }
      },
      "source": [
        "n = 5\n",
        "N = (2**n)\n",
        "\n",
        "x = 35\n",
        "y = 256\n",
        "varphi = x/y   # phase [0, 1)\n",
        "\n",
        "# Plotting:\n",
        "yvalues = [abs(make_bra(value,N) * (np.conjugate(np.transpose(Fourier_matrix(N))) * get_ket_varphi(varphi, n))).item(0) **2 for value in arange(32)][::-1]\n",
        "xvalues = arange(32)\n",
        "plt.plot(xvalues, np.round(yvalues, decimals=2), 'co')\n",
        "plt.vlines(x=xvalues, ymin=0, ymax=np.round(yvalues, decimals=2))\n",
        "label = \"N = 2**\" + str(n) + \"   varphi =\" + str(x) + \"/\" + str(y)\n",
        "plt.title(label)\n",
        "plt.ylabel(\"Pr(x)\")\n",
        "plt.xlabel(\"x\")\n",
        "plt.axis([0, 31, -0.0, 1.1]) # xmin,xmax,ymin,ymax\n",
        "plt.show()\n",
        "\n",
        "\n",
        "np.round(yvalues, decimals=2)"
      ],
      "execution_count": 0,
      "outputs": [
        {
          "output_type": "display_data",
          "data": {
            "image/png": "[encoded data removed]",
            "text/plain": [
              "<Figure size 432x288 with 1 Axes>"
            ]
          },
          "metadata": {
            "tags": []
          }
        },
        {
          "output_type": "execute_result",
          "data": {
            "text/plain": [
              "array([0.01, 0.02, 0.05, 0.62, 0.22, 0.03, 0.01, 0.01, 0.  , 0.  , 0.  ,\n",
              "       0.  , 0.  , 0.  , 0.  , 0.  , 0.  , 0.  , 0.  , 0.  , 0.  , 0.  ,\n",
              "       0.  , 0.  , 0.  , 0.  , 0.  , 0.  , 0.  , 0.  , 0.  , 0.  ])"
            ]
          },
          "metadata": {
            "tags": []
          },
          "execution_count": 9
        }
      ]
    },
    {
      "cell_type": "markdown",
      "metadata": {
        "id": "RsidfwV4SHAN",
        "colab_type": "text"
      },
      "source": [
        "### Set $N = 2^5$, $\\varphi = 36/256$\n"
      ]
    },
    {
      "cell_type": "code",
      "metadata": {
        "id": "-ph678muSJrb",
        "colab_type": "code",
        "outputId": "f8a07c0d-ef65-4fcc-a9a7-45bf74879343",
        "colab": {
          "base_uri": "https://localhost:8080/",
          "height": 345
        }
      },
      "source": [
        "n = 5\n",
        "N = (2**n)\n",
        "\n",
        "x = 36\n",
        "y = 256\n",
        "varphi = x/y   # phase [0, 1)\n",
        "\n",
        "# Plotting:\n",
        "yvalues = [abs(make_bra(value,N) * (np.conjugate(np.transpose(Fourier_matrix(N))) * get_ket_varphi(varphi, n))).item(0) **2 for value in arange(32)][::-1]\n",
        "xvalues = arange(32)\n",
        "plt.plot(xvalues, np.round(yvalues, decimals=2), 'mo')\n",
        "plt.vlines(x=xvalues, ymin=0, ymax=np.round(yvalues, decimals=2))\n",
        "label = \"N = 2**\" + str(n) + \"   varphi =\" + str(x) + \"/\" + str(y)\n",
        "plt.title(label)\n",
        "plt.ylabel(\"Pr(x)\")\n",
        "plt.xlabel(\"x\")\n",
        "plt.axis([0, 31, -0.0, 1.1]) # xmin,xmax,ymin,ymax\n",
        "plt.show()\n",
        "\n",
        "\n",
        "np.round(yvalues, decimals=2)"
      ],
      "execution_count": 0,
      "outputs": [
        {
          "output_type": "display_data",
          "data": {
            "image/png": "[encoded data removed]",
            "text/plain": [
              "<Figure size 432x288 with 1 Axes>"
            ]
          },
          "metadata": {
            "tags": []
          }
        },
        {
          "output_type": "execute_result",
          "data": {
            "text/plain": [
              "array([0.01, 0.02, 0.05, 0.41, 0.41, 0.05, 0.02, 0.01, 0.01, 0.  , 0.  ,\n",
              "       0.  , 0.  , 0.  , 0.  , 0.  , 0.  , 0.  , 0.  , 0.  , 0.  , 0.  ,\n",
              "       0.  , 0.  , 0.  , 0.  , 0.  , 0.  , 0.  , 0.  , 0.  , 0.01])"
            ]
          },
          "metadata": {
            "tags": []
          },
          "execution_count": 10
        }
      ]
    },
    {
      "cell_type": "markdown",
      "metadata": {
        "id": "3uU5OyuHScrG",
        "colab_type": "text"
      },
      "source": [
        "### Set $N = 2^5$, $\\varphi = 37/256$"
      ]
    },
    {
      "cell_type": "code",
      "metadata": {
        "id": "Nl-YPp_RSi3A",
        "colab_type": "code",
        "outputId": "8f386d2a-acbb-4886-c3be-8652543921a9",
        "colab": {
          "base_uri": "https://localhost:8080/",
          "height": 345
        }
      },
      "source": [
        "n = 5\n",
        "N = (2**n)\n",
        "\n",
        "x = 37\n",
        "y = 256\n",
        "varphi = x/y   # phase [0, 1)\n",
        "\n",
        "# Plotting:\n",
        "yvalues = [abs(make_bra(value,N) * (np.conjugate(np.transpose(Fourier_matrix(N))) * get_ket_varphi(varphi, n))).item(0) **2 for value in arange(32)][::-1]\n",
        "xvalues = arange(32)\n",
        "plt.plot(xvalues, np.round(yvalues, decimals=2), 'o')\n",
        "plt.vlines(x=xvalues, ymin=0, ymax=np.round(yvalues, decimals=2))\n",
        "label = \"N = 2**\" + str(n) + \"   varphi =\" + str(x) + \"/\" + str(y)\n",
        "plt.title(label)\n",
        "plt.ylabel(\"Pr(x)\")\n",
        "plt.xlabel(\"x\")\n",
        "plt.axis([0, 31, -0.0, 1.1]) # xmin,xmax,ymin,ymax\n",
        "plt.show()\n",
        "\n",
        "\n",
        "np.round(yvalues, decimals=2)"
      ],
      "execution_count": 0,
      "outputs": [
        {
          "output_type": "display_data",
          "data": {
            "image/png": "[encoded data removed]",
            "text/plain": [
              "<Figure size 432x288 with 1 Axes>"
            ]
          },
          "metadata": {
            "tags": []
          }
        },
        {
          "output_type": "execute_result",
          "data": {
            "text/plain": [
              "array([0.01, 0.01, 0.03, 0.22, 0.62, 0.05, 0.02, 0.01, 0.  , 0.  , 0.  ,\n",
              "       0.  , 0.  , 0.  , 0.  , 0.  , 0.  , 0.  , 0.  , 0.  , 0.  , 0.  ,\n",
              "       0.  , 0.  , 0.  , 0.  , 0.  , 0.  , 0.  , 0.  , 0.  , 0.  ])"
            ]
          },
          "metadata": {
            "tags": []
          },
          "execution_count": 11
        }
      ]
    },
    {
      "cell_type": "markdown",
      "metadata": {
        "id": "77xZhkCiSd_i",
        "colab_type": "text"
      },
      "source": [
        "### Set $N = 2^5$, $\\varphi = 38/256$"
      ]
    },
    {
      "cell_type": "code",
      "metadata": {
        "id": "shG1HaYvSjOq",
        "colab_type": "code",
        "outputId": "620133e4-d1c6-4dcc-c88a-c2dd3c1feeae",
        "colab": {
          "base_uri": "https://localhost:8080/",
          "height": 345
        }
      },
      "source": [
        "n = 5\n",
        "N = (2**n)\n",
        "\n",
        "x = 38\n",
        "y = 256\n",
        "varphi = x/y   # phase [0, 1)\n",
        "\n",
        "# Plotting:\n",
        "yvalues = [abs(make_bra(value,N) * (np.conjugate(np.transpose(Fourier_matrix(N))) * get_ket_varphi(varphi, n))).item(0) **2 for value in arange(32)][::-1]\n",
        "xvalues = arange(32)\n",
        "plt.plot(xvalues, np.round(yvalues, decimals=2), 'co')\n",
        "plt.vlines(x=xvalues, ymin=0, ymax=np.round(yvalues, decimals=2))\n",
        "label = \"N = 2**\" + str(n) + \"   varphi =\" + str(x) + \"/\" + str(y)\n",
        "plt.title(label)\n",
        "plt.ylabel(\"Pr(x)\")\n",
        "plt.xlabel(\"x\")\n",
        "plt.axis([0, 31, -0.0, 1.1]) # xmin,xmax,ymin,ymax\n",
        "plt.show()\n",
        "\n",
        "\n",
        "np.round(yvalues, decimals=2)"
      ],
      "execution_count": 0,
      "outputs": [
        {
          "output_type": "display_data",
          "data": {
            "image/png": "[encoded data removed]",
            "text/plain": [
              "<Figure size 432x288 with 1 Axes>"
            ]
          },
          "metadata": {
            "tags": []
          }
        },
        {
          "output_type": "execute_result",
          "data": {
            "text/plain": [
              "array([0.  , 0.01, 0.02, 0.09, 0.81, 0.03, 0.01, 0.  , 0.  , 0.  , 0.  ,\n",
              "       0.  , 0.  , 0.  , 0.  , 0.  , 0.  , 0.  , 0.  , 0.  , 0.  , 0.  ,\n",
              "       0.  , 0.  , 0.  , 0.  , 0.  , 0.  , 0.  , 0.  , 0.  , 0.  ])"
            ]
          },
          "metadata": {
            "tags": []
          },
          "execution_count": 12
        }
      ]
    },
    {
      "cell_type": "markdown",
      "metadata": {
        "id": "KKTRoRubSe9O",
        "colab_type": "text"
      },
      "source": [
        "### Set $N = 2^5$, $\\varphi = 39/256$"
      ]
    },
    {
      "cell_type": "code",
      "metadata": {
        "id": "GkTTxkprSjq1",
        "colab_type": "code",
        "outputId": "bfb437df-1909-4a50-deeb-6d3d8fdfdde4",
        "colab": {
          "base_uri": "https://localhost:8080/",
          "height": 346
        }
      },
      "source": [
        "n = 5\n",
        "N = (2**n)\n",
        "\n",
        "x = 39\n",
        "y = 256\n",
        "varphi = x/y   # phase [0, 1)\n",
        "\n",
        "# Plotting:\n",
        "yvalues = [abs(make_bra(value,N) * (np.conjugate(np.transpose(Fourier_matrix(N))) * get_ket_varphi(varphi, n))).item(0) **2 for value in arange(32)][::-1]\n",
        "xvalues = arange(32)\n",
        "\n",
        "plt.plot(xvalues, np.round(yvalues, decimals=2), 'mo')\n",
        "\n",
        "plt.vlines(x=xvalues, ymin=0, ymax=np.round(yvalues, decimals=2))\n",
        "label = \"N = 2**\" + str(n) + \"   varphi =\" + str(x) + \"/\" + str(y)\n",
        "plt.title(label)\n",
        "plt.ylabel(\"Pr(x)\")\n",
        "plt.xlabel(\"x\")\n",
        "plt.axis([0, 31, 0, 1.1]) # xmin,xmax,ymin,ymax\n",
        "plt.show()\n",
        "\n",
        "\n",
        "np.round(yvalues, decimals=2)"
      ],
      "execution_count": 0,
      "outputs": [
        {
          "output_type": "display_data",
          "data": {
            "image/png": "[encoded data removed]",
            "text/plain": [
              "<Figure size 432x288 with 1 Axes>"
            ]
          },
          "metadata": {
            "tags": []
          }
        },
        {
          "output_type": "execute_result",
          "data": {
            "text/plain": [
              "array([0.  , 0.  , 0.  , 0.02, 0.95, 0.01, 0.  , 0.  , 0.  , 0.  , 0.  ,\n",
              "       0.  , 0.  , 0.  , 0.  , 0.  , 0.  , 0.  , 0.  , 0.  , 0.  , 0.  ,\n",
              "       0.  , 0.  , 0.  , 0.  , 0.  , 0.  , 0.  , 0.  , 0.  , 0.  ])"
            ]
          },
          "metadata": {
            "tags": []
          },
          "execution_count": 13
        }
      ]
    },
    {
      "cell_type": "markdown",
      "metadata": {
        "id": "T3cWq_FfSgM2",
        "colab_type": "text"
      },
      "source": [
        "### Set $N = 2^5$, $\\varphi = 40/256$"
      ]
    },
    {
      "cell_type": "code",
      "metadata": {
        "id": "kkBEdgEQSkG_",
        "colab_type": "code",
        "outputId": "88bd4881-73bf-4761-8a78-39e32c04bcb0",
        "colab": {
          "base_uri": "https://localhost:8080/",
          "height": 329
        }
      },
      "source": [
        "n = 5\n",
        "N = (2**n)\n",
        "\n",
        "x = 40\n",
        "y = 256\n",
        "varphi = x/y   # phase [0, 1)\n",
        "\n",
        "#arr[::-1] reverses the values.\n",
        "\n",
        "# Plotting:\n",
        "yvalues = [abs(make_bra(value,N) * (np.conjugate(np.transpose(Fourier_matrix(N))) * get_ket_varphi(varphi, n))).item(0) **2 for value in arange(32)][::-1]\n",
        "xvalues = arange(32)\n",
        "plt.plot(xvalues, np.round(yvalues, decimals=2), 'o')\n",
        "plt.vlines(x=xvalues, ymin=0, ymax=np.round(yvalues, decimals=2))\n",
        "label = \"N = 2**\" + str(n) + \"   varphi =\" + str(x) + \"/\" + str(y)\n",
        "plt.title(label)\n",
        "plt.ylabel(\"Pr(x)\")\n",
        "plt.xlabel(\"x\")\n",
        "plt.axis([0, 31, -0.0, 1.1]) # xmin,xmax,ymin,ymax\n",
        "plt.show()\n",
        "\n",
        "\n",
        "np.round(yvalues, decimals=2)"
      ],
      "execution_count": 0,
      "outputs": [
        {
          "output_type": "display_data",
          "data": {
            "image/png": "[encoded data removed]",
            "text/plain": [
              "<Figure size 432x288 with 1 Axes>"
            ]
          },
          "metadata": {
            "tags": []
          }
        },
        {
          "output_type": "execute_result",
          "data": {
            "text/plain": [
              "array([0., 0., 0., 0., 1., 0., 0., 0., 0., 0., 0., 0., 0., 0., 0., 0., 0.,\n",
              "       0., 0., 0., 0., 0., 0., 0., 0., 0., 0., 0., 0., 0., 0., 0.])"
            ]
          },
          "metadata": {
            "tags": []
          },
          "execution_count": 14
        }
      ]
    }
  ]
}